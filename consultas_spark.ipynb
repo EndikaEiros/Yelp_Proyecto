{
 "cells": [
  {
   "cell_type": "code",
   "execution_count": 1,
   "metadata": {},
   "outputs": [],
   "source": [
    "import pyspark\n",
    "import pandas as pd\n",
    "\n",
    "from datetime import datetime, date\n",
    "from pyspark.sql import SparkSession, Row, Column\n",
    "from pyspark.sql.window import Window\n",
    "from pyspark.sql.functions import col, avg, count, explode, split, upper, expr, collect_list, size, split, year, row_number"
   ]
  },
  {
   "cell_type": "code",
   "execution_count": 2,
   "metadata": {},
   "outputs": [
    {
     "name": "stderr",
     "output_type": "stream",
     "text": [
      "Setting default log level to \"WARN\".\n",
      "To adjust logging level use sc.setLogLevel(newLevel). For SparkR, use setLogLevel(newLevel).\n",
      "23/12/29 13:18:01 WARN NativeCodeLoader: Unable to load native-hadoop library for your platform... using builtin-java classes where applicable\n",
      "23/12/29 13:18:11 WARN package: Truncated the string representation of a plan since it was too large. This behavior can be adjusted by setting 'spark.sql.debug.maxToStringFields'.\n",
      "                                                                                \r"
     ]
    }
   ],
   "source": [
    "# spark = SparkSession.builder.getOrCreate()\n",
    "spark = SparkSession.builder \\\n",
    "    .appName(\"ConsultaPySpark\") \\\n",
    "    .config(\"spark.driver.memory\", \"4g\") \\\n",
    "    .config(\"spark.executor.memory\", \"4g\") \\\n",
    "    .getOrCreate()\n",
    "\n",
    "business_path = \"data/yelp_academic_dataset_business.json\"\n",
    "review_path = \"data/yelp_academic_dataset_review.json\"\n",
    "\n",
    "business_df = spark.read.json(business_path)\n",
    "review_df = spark.read.json(review_path)"
   ]
  },
  {
   "cell_type": "code",
   "execution_count": 30,
   "metadata": {},
   "outputs": [
    {
     "ename": "NameError",
     "evalue": "name 'null' is not defined",
     "output_type": "error",
     "traceback": [
      "\u001b[0;31m---------------------------------------------------------------------------\u001b[0m",
      "\u001b[0;31mNameError\u001b[0m                                 Traceback (most recent call last)",
      "Cell \u001b[0;32mIn[30], line 15\u001b[0m\n\u001b[1;32m      1\u001b[0m \u001b[38;5;66;03m# business.json\u001b[39;00m\n\u001b[1;32m      2\u001b[0m {\u001b[38;5;124m\"\u001b[39m\u001b[38;5;124mbusiness_id\u001b[39m\u001b[38;5;124m\"\u001b[39m:\u001b[38;5;124m\"\u001b[39m\u001b[38;5;124mPns2l4eNsfO8kk83dixA6A\u001b[39m\u001b[38;5;124m\"\u001b[39m,\n\u001b[1;32m      3\u001b[0m  \u001b[38;5;124m\"\u001b[39m\u001b[38;5;124mname\u001b[39m\u001b[38;5;124m\"\u001b[39m:\u001b[38;5;124m\"\u001b[39m\u001b[38;5;124mAbby Rappoport, LAC, CMQ\u001b[39m\u001b[38;5;124m\"\u001b[39m,\n\u001b[1;32m      4\u001b[0m  \u001b[38;5;124m\"\u001b[39m\u001b[38;5;124maddress\u001b[39m\u001b[38;5;124m\"\u001b[39m:\u001b[38;5;124m\"\u001b[39m\u001b[38;5;124m1616 Chapala St, Ste 2\u001b[39m\u001b[38;5;124m\"\u001b[39m,\n\u001b[1;32m      5\u001b[0m  \u001b[38;5;124m\"\u001b[39m\u001b[38;5;124mcity\u001b[39m\u001b[38;5;124m\"\u001b[39m:\u001b[38;5;124m\"\u001b[39m\u001b[38;5;124mSanta Barbara\u001b[39m\u001b[38;5;124m\"\u001b[39m,\n\u001b[1;32m      6\u001b[0m  \u001b[38;5;124m\"\u001b[39m\u001b[38;5;124mstate\u001b[39m\u001b[38;5;124m\"\u001b[39m:\u001b[38;5;124m\"\u001b[39m\u001b[38;5;124mCA\u001b[39m\u001b[38;5;124m\"\u001b[39m,\n\u001b[1;32m      7\u001b[0m  \u001b[38;5;124m\"\u001b[39m\u001b[38;5;124mpostal_code\u001b[39m\u001b[38;5;124m\"\u001b[39m:\u001b[38;5;124m\"\u001b[39m\u001b[38;5;124m93101\u001b[39m\u001b[38;5;124m\"\u001b[39m,\n\u001b[1;32m      8\u001b[0m  \u001b[38;5;124m\"\u001b[39m\u001b[38;5;124mlatitude\u001b[39m\u001b[38;5;124m\"\u001b[39m:\u001b[38;5;241m34.4266787\u001b[39m,\n\u001b[1;32m      9\u001b[0m  \u001b[38;5;124m\"\u001b[39m\u001b[38;5;124mlongitude\u001b[39m\u001b[38;5;124m\"\u001b[39m:\u001b[38;5;241m-\u001b[39m\u001b[38;5;241m119.7111968\u001b[39m,\n\u001b[1;32m     10\u001b[0m  \u001b[38;5;124m\"\u001b[39m\u001b[38;5;124mstars\u001b[39m\u001b[38;5;124m\"\u001b[39m:\u001b[38;5;241m5.0\u001b[39m,\n\u001b[1;32m     11\u001b[0m  \u001b[38;5;124m\"\u001b[39m\u001b[38;5;124mreview_count\u001b[39m\u001b[38;5;124m\"\u001b[39m:\u001b[38;5;241m7\u001b[39m,\n\u001b[1;32m     12\u001b[0m  \u001b[38;5;124m\"\u001b[39m\u001b[38;5;124mis_open\u001b[39m\u001b[38;5;124m\"\u001b[39m:\u001b[38;5;241m0\u001b[39m,\n\u001b[1;32m     13\u001b[0m  \u001b[38;5;124m\"\u001b[39m\u001b[38;5;124mattributes\u001b[39m\u001b[38;5;124m\"\u001b[39m:{\u001b[38;5;124m\"\u001b[39m\u001b[38;5;124mByAppointmentOnly\u001b[39m\u001b[38;5;124m\"\u001b[39m:\u001b[38;5;124m\"\u001b[39m\u001b[38;5;124mTrue\u001b[39m\u001b[38;5;124m\"\u001b[39m},\n\u001b[1;32m     14\u001b[0m  \u001b[38;5;124m\"\u001b[39m\u001b[38;5;124mcategories\u001b[39m\u001b[38;5;124m\"\u001b[39m:\u001b[38;5;124m\"\u001b[39m\u001b[38;5;124mDoctors, Traditional Chinese Medicine, Naturopathic\u001b[39m\u001b[38;5;124m\\\u001b[39m\u001b[38;5;124m/Holistic, Acupuncture, Health & Medical, Nutritionists\u001b[39m\u001b[38;5;124m\"\u001b[39m,\n\u001b[0;32m---> 15\u001b[0m  \u001b[38;5;124m\"\u001b[39m\u001b[38;5;124mhours\u001b[39m\u001b[38;5;124m\"\u001b[39m:\u001b[43mnull\u001b[49m}\n\u001b[1;32m     17\u001b[0m \u001b[38;5;66;03m# review.json\u001b[39;00m\n\u001b[1;32m     18\u001b[0m {\u001b[38;5;124m\"\u001b[39m\u001b[38;5;124mreview_id\u001b[39m\u001b[38;5;124m\"\u001b[39m:\u001b[38;5;124m\"\u001b[39m\u001b[38;5;124mKU_O5udG6zpxOg-VcAEodg\u001b[39m\u001b[38;5;124m\"\u001b[39m,\n\u001b[1;32m     19\u001b[0m  \u001b[38;5;124m\"\u001b[39m\u001b[38;5;124muser_id\u001b[39m\u001b[38;5;124m\"\u001b[39m:\u001b[38;5;124m\"\u001b[39m\u001b[38;5;124mmh_-eMZ6K5RLWhZyISBhwA\u001b[39m\u001b[38;5;124m\"\u001b[39m,\n\u001b[1;32m     20\u001b[0m  \u001b[38;5;124m\"\u001b[39m\u001b[38;5;124mbusiness_id\u001b[39m\u001b[38;5;124m\"\u001b[39m:\u001b[38;5;124m\"\u001b[39m\u001b[38;5;124mXQfwVwDr-v0ZS3_CbbE5Xw\u001b[39m\u001b[38;5;124m\"\u001b[39m,\n\u001b[0;32m   (...)\u001b[0m\n\u001b[1;32m     25\u001b[0m  \u001b[38;5;124m\"\u001b[39m\u001b[38;5;124mtext\u001b[39m\u001b[38;5;124m\"\u001b[39m:\u001b[38;5;124m\"\u001b[39m\u001b[38;5;124mIf you decide to eat here, just be aware it is going to take about 2 hours from beginning to end. We have tried it multiple times, because I want to like it! I have been to it\u001b[39m\u001b[38;5;124m'\u001b[39m\u001b[38;5;124ms other locations in NJ and never had a bad experience. \u001b[39m\u001b[38;5;130;01m\\n\u001b[39;00m\u001b[38;5;130;01m\\n\u001b[39;00m\u001b[38;5;124mThe food is good, but it takes a very long time to come out. The waitstaff is very young, but usually pleasant. We have just had too many experiences where we spent way too long waiting. We usually opt for another diner or restaurant on the weekends, in order to be done quicker.\u001b[39m\u001b[38;5;124m\"\u001b[39m,\n\u001b[1;32m     26\u001b[0m  \u001b[38;5;124m\"\u001b[39m\u001b[38;5;124mdate\u001b[39m\u001b[38;5;124m\"\u001b[39m:\u001b[38;5;124m\"\u001b[39m\u001b[38;5;124m2018-07-07 22:09:11\u001b[39m\u001b[38;5;124m\"\u001b[39m}\n",
      "\u001b[0;31mNameError\u001b[0m: name 'null' is not defined"
     ]
    }
   ],
   "source": [
    "# business.json\n",
    "{\"business_id\":\"Pns2l4eNsfO8kk83dixA6A\",\n",
    " \"name\":\"Abby Rappoport, LAC, CMQ\",\n",
    " \"address\":\"1616 Chapala St, Ste 2\",\n",
    " \"city\":\"Santa Barbara\",\n",
    " \"state\":\"CA\",\n",
    " \"postal_code\":\"93101\",\n",
    " \"latitude\":34.4266787,\n",
    " \"longitude\":-119.7111968,\n",
    " \"stars\":5.0,\n",
    " \"review_count\":7,\n",
    " \"is_open\":0,\n",
    " \"attributes\":{\"ByAppointmentOnly\":\"True\"},\n",
    " \"categories\":\"Doctors, Traditional Chinese Medicine, Naturopathic\\/Holistic, Acupuncture, Health & Medical, Nutritionists\",\n",
    " \"hours\":null}\n",
    "\n",
    "# review.json\n",
    "{\"review_id\":\"KU_O5udG6zpxOg-VcAEodg\",\n",
    " \"user_id\":\"mh_-eMZ6K5RLWhZyISBhwA\",\n",
    " \"business_id\":\"XQfwVwDr-v0ZS3_CbbE5Xw\",\n",
    " \"stars\":3.0,\n",
    " \"useful\":0,\n",
    " \"funny\":0,\n",
    " \"cool\":0,\n",
    " \"text\":\"If you decide to eat here, just be aware it is going to take about 2 hours from beginning to end. We have tried it multiple times, because I want to like it! I have been to it's other locations in NJ and never had a bad experience. \\n\\nThe food is good, but it takes a very long time to come out. The waitstaff is very young, but usually pleasant. We have just had too many experiences where we spent way too long waiting. We usually opt for another diner or restaurant on the weekends, in order to be done quicker.\",\n",
    " \"date\":\"2018-07-07 22:09:11\"}\n"
   ]
  },
  {
   "cell_type": "markdown",
   "metadata": {},
   "source": [
    "##### 1. Obtener los 10 negocios con mayor número de revisiones (2%)\n"
   ]
  },
  {
   "cell_type": "code",
   "execution_count": 3,
   "metadata": {},
   "outputs": [
    {
     "name": "stderr",
     "output_type": "stream",
     "text": [
      "                                                                                \r"
     ]
    },
    {
     "name": "stdout",
     "output_type": "stream",
     "text": [
      "+--------------------+-----------+\n",
      "|                name|num_reviews|\n",
      "+--------------------+-----------+\n",
      "|   Acme Oyster House|       7673|\n",
      "|        Oceana Grill|       7516|\n",
      "|Hattie B’s Hot Ch...|       6160|\n",
      "|Reading Terminal ...|       5778|\n",
      "|Ruby Slipper - Ne...|       5264|\n",
      "| Mother's Restaurant|       5254|\n",
      "|         Royal House|       5146|\n",
      "|  Commander's Palace|       4969|\n",
      "|                Luke|       4661|\n",
      "|              Cochon|       4480|\n",
      "+--------------------+-----------+\n",
      "\n"
     ]
    },
    {
     "name": "stderr",
     "output_type": "stream",
     "text": [
      "                                                                                \r"
     ]
    }
   ],
   "source": [
    "top_businesses = review_df.groupBy(\"business_id\").agg(count(\"review_id\").alias(\"num_reviews\")) \\\n",
    "    .orderBy(col(\"num_reviews\").desc()).limit(10)\n",
    "\n",
    "result1 = top_businesses.join(business_df, \"business_id\").select(\"name\", \"num_reviews\").orderBy(col(\"num_reviews\").desc())\n",
    "result1.show()\n"
   ]
  },
  {
   "cell_type": "markdown",
   "metadata": {},
   "source": [
    "##### 2. Obtener las 10 categorías con la mayor puntuación media (2%)\n"
   ]
  },
  {
   "cell_type": "code",
   "execution_count": 13,
   "metadata": {},
   "outputs": [
    {
     "name": "stdout",
     "output_type": "stream",
     "text": [
      "+--------------------+---------+\n",
      "|            category|avg_stars|\n",
      "+--------------------+---------+\n",
      "|     Art Consultants|      5.0|\n",
      "|         Calligraphy|      5.0|\n",
      "|Cheese Tasting Cl...|      5.0|\n",
      "|       Childproofing|      5.0|\n",
      "|         Experiences|      5.0|\n",
      "|          Patent Law|      5.0|\n",
      "|        Silent Disco|      5.0|\n",
      "|              Somali|      5.0|\n",
      "|Sport Equipment Hire|      5.0|\n",
      "|     Water Suppliers|      5.0|\n",
      "+--------------------+---------+\n",
      "\n"
     ]
    }
   ],
   "source": [
    "avg_stars_by_category = business_df.select(\"business_id\", \"stars\", \"categories\") \\\n",
    "    .withColumn(\"category\", explode(split(col(\"categories\"), \", \"))) \\\n",
    "    .groupBy(\"category\").agg(avg(\"stars\").alias(\"avg_stars\")) \\\n",
    "    .orderBy(col(\"avg_stars\").desc()).limit(10) \\\n",
    "    .orderBy(col(\"category\"))\n",
    "\n",
    "result2 = avg_stars_by_category.show()\n"
   ]
  },
  {
   "cell_type": "markdown",
   "metadata": {},
   "source": [
    "##### 3. Obtener las 10 ciudades con la mayor puntuación media (2%)\n"
   ]
  },
  {
   "cell_type": "code",
   "execution_count": 14,
   "metadata": {},
   "outputs": [
    {
     "name": "stdout",
     "output_type": "stream",
     "text": [
      "+----------------+---------+\n",
      "|            city|avg_stars|\n",
      "+----------------+---------+\n",
      "|         Arizona|      5.0|\n",
      "| Delaware County|      5.0|\n",
      "|         Fernley|      5.0|\n",
      "|        Norriton|      5.0|\n",
      "|   Pass-a-Grille|      5.0|\n",
      "|           Reno |      5.0|\n",
      "|Rosewood Heights|      5.0|\n",
      "|          SPARKS|      5.0|\n",
      "|    Webster Grvs|      5.0|\n",
      "|    phoenixville|      5.0|\n",
      "+----------------+---------+\n",
      "\n"
     ]
    }
   ],
   "source": [
    "avg_stars_by_city = business_df.select(\"city\", \"stars\") \\\n",
    "    .groupBy(\"city\").agg(avg(\"stars\").alias(\"avg_stars\")) \\\n",
    "    .orderBy(col(\"avg_stars\").desc()).limit(10) \\\n",
    "    .orderBy(col(\"city\"))\n",
    "\n",
    "result3 = avg_stars_by_city.show()\n"
   ]
  },
  {
   "cell_type": "markdown",
   "metadata": {},
   "source": [
    "##### 4. Calcular la media de palabras para las reseñas de cada puntuación (1-5 estrellas) (2%)\n"
   ]
  },
  {
   "cell_type": "code",
   "execution_count": 23,
   "metadata": {},
   "outputs": [
    {
     "name": "stderr",
     "output_type": "stream",
     "text": [
      "[Stage 27:===================================================>    (37 + 3) / 40]\r"
     ]
    },
    {
     "name": "stdout",
     "output_type": "stream",
     "text": [
      "+-----+------------------+\n",
      "|stars|         avg_words|\n",
      "+-----+------------------+\n",
      "|  1.0| 135.3761664832581|\n",
      "|  4.0|109.01844357355336|\n",
      "|  3.0|125.33368066896554|\n",
      "|  2.0|135.76835403498455|\n",
      "|  5.0| 85.32756936366728|\n",
      "+-----+------------------+\n",
      "\n"
     ]
    },
    {
     "name": "stderr",
     "output_type": "stream",
     "text": [
      "                                                                                \r"
     ]
    }
   ],
   "source": [
    "# Calcular la media de palabras para las reseñas de cada puntuación (1-5 estrellas)\n",
    "avg_words_by_stars = review_df.groupBy(\"stars\").agg(avg(size(split(col(\"text\"), \" \"))).alias(\"avg_words\"))\n",
    "\n",
    "result4 = avg_words_by_stars.show()\n"
   ]
  },
  {
   "cell_type": "markdown",
   "metadata": {},
   "source": [
    "##### 5. Obtener las 10 categorías que más se repiten para cada puntuación (1-5 estrellas) (4%)\n"
   ]
  },
  {
   "cell_type": "code",
   "execution_count": 29,
   "metadata": {},
   "outputs": [
    {
     "name": "stderr",
     "output_type": "stream",
     "text": [
      "                                                                                \r"
     ]
    },
    {
     "name": "stdout",
     "output_type": "stream",
     "text": [
      "+--------------------+------+\n",
      "|            category| count|\n",
      "+--------------------+------+\n",
      "|         Restaurants|567185|\n",
      "|                Food|200062|\n",
      "|           Nightlife|171310|\n",
      "|                Bars|160744|\n",
      "|American (Traditi...|135761|\n",
      "|            Shopping|110161|\n",
      "|      American (New)| 98740|\n",
      "|Event Planning & ...| 91701|\n",
      "|  Breakfast & Brunch| 89419|\n",
      "|             Burgers| 81299|\n",
      "+--------------------+------+\n",
      "\n"
     ]
    },
    {
     "name": "stderr",
     "output_type": "stream",
     "text": [
      "                                                                                \r"
     ]
    },
    {
     "name": "stdout",
     "output_type": "stream",
     "text": [
      "+--------------------+------+\n",
      "|            category| count|\n",
      "+--------------------+------+\n",
      "|         Restaurants|404486|\n",
      "|                Food|135015|\n",
      "|           Nightlife|134947|\n",
      "|                Bars|128301|\n",
      "|American (Traditi...| 98551|\n",
      "|      American (New)| 85894|\n",
      "|  Breakfast & Brunch| 69261|\n",
      "|          Sandwiches| 55881|\n",
      "|Event Planning & ...| 54730|\n",
      "|             Seafood| 53573|\n",
      "+--------------------+------+\n",
      "\n"
     ]
    },
    {
     "name": "stderr",
     "output_type": "stream",
     "text": [
      "                                                                                \r"
     ]
    },
    {
     "name": "stdout",
     "output_type": "stream",
     "text": [
      "+--------------------+------+\n",
      "|            category| count|\n",
      "+--------------------+------+\n",
      "|         Restaurants|543108|\n",
      "|           Nightlife|190844|\n",
      "|                Food|189080|\n",
      "|                Bars|181185|\n",
      "|American (Traditi...|130179|\n",
      "|      American (New)|120373|\n",
      "|  Breakfast & Brunch| 98102|\n",
      "|          Sandwiches| 76597|\n",
      "|             Seafood| 72147|\n",
      "|Event Planning & ...| 67623|\n",
      "+--------------------+------+\n",
      "\n"
     ]
    },
    {
     "name": "stderr",
     "output_type": "stream",
     "text": [
      "                                                                                \r"
     ]
    },
    {
     "name": "stdout",
     "output_type": "stream",
     "text": [
      "+--------------------+-------+\n",
      "|            category|  count|\n",
      "+--------------------+-------+\n",
      "|         Restaurants|1130251|\n",
      "|                Food| 421154|\n",
      "|           Nightlife| 388516|\n",
      "|                Bars| 368122|\n",
      "|American (Traditi...| 248110|\n",
      "|      American (New)| 247218|\n",
      "|  Breakfast & Brunch| 210449|\n",
      "|          Sandwiches| 164547|\n",
      "|             Seafood| 147859|\n",
      "|Event Planning & ...| 131959|\n",
      "+--------------------+-------+\n",
      "\n"
     ]
    },
    {
     "name": "stderr",
     "output_type": "stream",
     "text": [
      "[Stage 67:===================================================>    (37 + 3) / 40]\r"
     ]
    },
    {
     "name": "stdout",
     "output_type": "stream",
     "text": [
      "+--------------------+-------+\n",
      "|            category|  count|\n",
      "+--------------------+-------+\n",
      "|         Restaurants|2079441|\n",
      "|                Food| 868282|\n",
      "|           Nightlife| 654140|\n",
      "|                Bars| 617201|\n",
      "|      American (New)| 432315|\n",
      "|  Breakfast & Brunch| 400199|\n",
      "|American (Traditi...| 399045|\n",
      "|          Sandwiches| 317516|\n",
      "|             Seafood| 281802|\n",
      "|Event Planning & ...| 263540|\n",
      "+--------------------+-------+\n",
      "\n"
     ]
    },
    {
     "name": "stderr",
     "output_type": "stream",
     "text": [
      "                                                                                \r"
     ]
    }
   ],
   "source": [
    "# Filtrar las reseñas por puntuaciónes de estrellas\n",
    "one_star_reviews    = review_df.filter(col(\"stars\") == 1)\n",
    "two_star_reviews    = review_df.filter(col(\"stars\") == 2)\n",
    "three_star_reviews  = review_df.filter(col(\"stars\") == 3)\n",
    "four_star_reviews   = review_df.filter(col(\"stars\") == 4)\n",
    "five_star_reviews   = review_df.filter(col(\"stars\") == 5)\n",
    "\n",
    "# Obtener las categorías que más se repiten para la puntuación de 1 estrella\n",
    "top_categories_for_one_star = (\n",
    "    one_star_reviews\n",
    "    .join(business_df, \"business_id\")\n",
    "    .select(explode(split(\"categories\", \", \")).alias(\"category\"))\n",
    "    .groupBy(\"category\")\n",
    "    .agg(count(\"*\").alias(\"count\"))\n",
    "    .orderBy(col(\"count\").desc())\n",
    "    .limit(10)\n",
    ")\n",
    "\n",
    "top_categories_for_two_star = (\n",
    "    two_star_reviews\n",
    "    .join(business_df, \"business_id\")\n",
    "    .select(explode(split(\"categories\", \", \")).alias(\"category\"))\n",
    "    .groupBy(\"category\")\n",
    "    .agg(count(\"*\").alias(\"count\"))\n",
    "    .orderBy(col(\"count\").desc())\n",
    "    .limit(10)\n",
    ")\n",
    "\n",
    "top_categories_for_three_star = (\n",
    "    three_star_reviews\n",
    "    .join(business_df, \"business_id\")\n",
    "    .select(explode(split(\"categories\", \", \")).alias(\"category\"))\n",
    "    .groupBy(\"category\")\n",
    "    .agg(count(\"*\").alias(\"count\"))\n",
    "    .orderBy(col(\"count\").desc())\n",
    "    .limit(10)\n",
    ")\n",
    "\n",
    "top_categories_for_four_star = (\n",
    "    four_star_reviews\n",
    "    .join(business_df, \"business_id\")\n",
    "    .select(explode(split(\"categories\", \", \")).alias(\"category\"))\n",
    "    .groupBy(\"category\")\n",
    "    .agg(count(\"*\").alias(\"count\"))\n",
    "    .orderBy(col(\"count\").desc())\n",
    "    .limit(10)\n",
    ")\n",
    "\n",
    "top_categories_for_five_star = (\n",
    "    five_star_reviews\n",
    "    .join(business_df, \"business_id\")\n",
    "    .select(explode(split(\"categories\", \", \")).alias(\"category\"))\n",
    "    .groupBy(\"category\")\n",
    "    .agg(count(\"*\").alias(\"count\"))\n",
    "    .orderBy(col(\"count\").desc())\n",
    "    .limit(10)\n",
    ")\n",
    "\n",
    "top_categories_for_one_star.show()\n",
    "top_categories_for_two_star.show()\n",
    "top_categories_for_three_star.show()\n",
    "top_categories_for_four_star.show()\n",
    "top_categories_for_five_star.show()\n"
   ]
  },
  {
   "cell_type": "markdown",
   "metadata": {},
   "source": [
    "##### 6. Analizar cómo un atributo determinado afecta a la puntuación del negocio (4%)\n"
   ]
  },
  {
   "cell_type": "code",
   "execution_count": 13,
   "metadata": {},
   "outputs": [
    {
     "name": "stderr",
     "output_type": "stream",
     "text": [
      "[Stage 17:====>                                                   (1 + 11) / 12]\r"
     ]
    },
    {
     "name": "stdout",
     "output_type": "stream",
     "text": [
      "+-----------------+------------------+\n",
      "|ByAppointmentOnly|         avg_stars|\n",
      "+-----------------+------------------+\n",
      "|             None|              3.45|\n",
      "|            False|3.7063694267515923|\n",
      "|             null|3.5178923588285946|\n",
      "|             True|3.9550900121724646|\n",
      "+-----------------+------------------+\n",
      "\n"
     ]
    },
    {
     "name": "stderr",
     "output_type": "stream",
     "text": [
      "                                                                                \r"
     ]
    }
   ],
   "source": [
    "#  Se refiere al campo \"atributo\" o a uyna columna cualqueira WTF EMALDI\n",
    "\n",
    "attribute_effect = business_df.select(\"stars\", \"attributes.ByAppointmentOnly\") \\\n",
    "    .groupBy(\"ByAppointmentOnly\").agg(avg(\"stars\").alias(\"avg_stars\"))\n",
    "\n",
    "result6 = attribute_effect.show()\n"
   ]
  },
  {
   "cell_type": "markdown",
   "metadata": {},
   "source": [
    "##### 7. Obtener la media anual de puntuación para las 10 categorías con mayor número de reseñas (4%)"
   ]
  },
  {
   "cell_type": "code",
   "execution_count": 15,
   "metadata": {},
   "outputs": [
    {
     "name": "stderr",
     "output_type": "stream",
     "text": [
      "[Stage 41:======================================================> (39 + 1) / 40]\r"
     ]
    },
    {
     "name": "stdout",
     "output_type": "stream",
     "text": [
      "+--------------------+----+------------------+\n",
      "|            category|year|         avg_stars|\n",
      "+--------------------+----+------------------+\n",
      "|      American (New)|2005| 4.086956521739131|\n",
      "|      American (New)|2006|  4.05607476635514|\n",
      "|      American (New)|2007| 3.885222381635581|\n",
      "|      American (New)|2008| 3.790946896992962|\n",
      "|      American (New)|2009| 3.693454925429847|\n",
      "|      American (New)|2010| 3.714959175738725|\n",
      "|      American (New)|2011|3.7084460042575227|\n",
      "|      American (New)|2012| 3.705262675766042|\n",
      "|      American (New)|2013| 3.708643879037094|\n",
      "|      American (New)|2014|3.7905753274017795|\n",
      "|      American (New)|2015|3.8261306721544086|\n",
      "|      American (New)|2016| 3.854635336531896|\n",
      "|      American (New)|2017|3.8659174072138005|\n",
      "|      American (New)|2018| 3.887391530984577|\n",
      "|      American (New)|2019|3.8899515208575934|\n",
      "|      American (New)|2020| 3.967351756925017|\n",
      "|      American (New)|2021| 3.894207115460918|\n",
      "|      American (New)|2022|3.9226490066225166|\n",
      "|American (Traditi...|2005|3.8442622950819674|\n",
      "|American (Traditi...|2006|3.9006734006734005|\n",
      "+--------------------+----+------------------+\n",
      "only showing top 20 rows\n",
      "\n"
     ]
    },
    {
     "name": "stderr",
     "output_type": "stream",
     "text": [
      "                                                                                \r"
     ]
    }
   ],
   "source": [
    "# Obtener las 10 categorías con mayor número de reseñas\n",
    "top_categories_by_reviews = (\n",
    "    review_df\n",
    "    .join(business_df, \"business_id\")\n",
    "    .select(explode(split(\"categories\", \", \")).alias(\"category\"))\n",
    "    .groupBy(\"category\")\n",
    "    .agg(count(\"*\").alias(\"num_reviews\"))\n",
    "    .orderBy(col(\"num_reviews\").desc())\n",
    "    .limit(10)\n",
    ")\n",
    "\n",
    "# Renombrar la columna \"stars\" de review_df a \"review_stars\"\n",
    "review_df = review_df.withColumnRenamed(\"stars\", \"review_stars\")\n",
    "\n",
    "# Filtrar las reseñas para las categorías seleccionadas\n",
    "filtered_reviews = (\n",
    "    review_df\n",
    "    .join(business_df, \"business_id\")\n",
    "    .select(\"review_stars\", \"date\", explode(split(\"categories\", \", \")).alias(\"category\"))\n",
    "    .join(top_categories_by_reviews, \"category\")\n",
    ")\n",
    "\n",
    "# Agregar una columna de año y calcular la media anual de puntuación para las 10 categorías con mayor número de reseñas\n",
    "windowSpec = Window.partitionBy(\"category\", \"year\").orderBy(\"year\")\n",
    "\n",
    "result = (\n",
    "    filtered_reviews\n",
    "    .withColumn(\"year\", year(\"date\"))\n",
    "    .groupBy(\"category\", \"year\")\n",
    "    .agg(avg(col(\"review_stars\")).alias(\"avg_stars\"))\n",
    "    .withColumn(\"row_number\", row_number().over(windowSpec))\n",
    "    .filter(col(\"row_number\") == 1)\n",
    "    .drop(\"row_number\")\n",
    "    .orderBy(\"category\", \"year\")\n",
    ")\n",
    "\n",
    "result.show()\n"
   ]
  },
  {
   "cell_type": "code",
   "execution_count": 18,
   "metadata": {},
   "outputs": [
    {
     "name": "stderr",
     "output_type": "stream",
     "text": [
      "[Stage 62:===================================================>    (37 + 3) / 40]\r"
     ]
    },
    {
     "name": "stdout",
     "output_type": "stream",
     "text": [
      "+--------------------+----+------------------+\n",
      "|            category|year|         avg_stars|\n",
      "+--------------------+----+------------------+\n",
      "|      American (New)|2005| 4.086956521739131|\n",
      "|      American (New)|2006|  4.05607476635514|\n",
      "|      American (New)|2007| 3.885222381635581|\n",
      "|      American (New)|2008| 3.790946896992962|\n",
      "|      American (New)|2009| 3.693454925429847|\n",
      "|      American (New)|2010| 3.714959175738725|\n",
      "|      American (New)|2011|3.7084460042575227|\n",
      "|      American (New)|2012| 3.705262675766042|\n",
      "|      American (New)|2013| 3.708643879037094|\n",
      "|      American (New)|2014|3.7905753274017795|\n",
      "|      American (New)|2015|3.8261306721544086|\n",
      "|      American (New)|2016| 3.854635336531896|\n",
      "|      American (New)|2017|3.8659174072138005|\n",
      "|      American (New)|2018| 3.887391530984577|\n",
      "|      American (New)|2019|3.8899515208575934|\n",
      "|      American (New)|2020| 3.967351756925017|\n",
      "|      American (New)|2021| 3.894207115460918|\n",
      "|      American (New)|2022|3.9226490066225166|\n",
      "|American (Traditi...|2005|3.8442622950819674|\n",
      "|American (Traditi...|2006|3.9006734006734005|\n",
      "|American (Traditi...|2007|3.7546186641402177|\n",
      "|American (Traditi...|2008|3.6557377049180326|\n",
      "|American (Traditi...|2009| 3.577212900632975|\n",
      "|American (Traditi...|2010|3.5703727679775583|\n",
      "|American (Traditi...|2011| 3.558749130462278|\n",
      "|American (Traditi...|2012| 3.540231664215876|\n",
      "|American (Traditi...|2013|3.5539288188268774|\n",
      "|American (Traditi...|2014|3.6051986140489753|\n",
      "|American (Traditi...|2015|3.6513567962772044|\n",
      "|American (Traditi...|2016|3.6766964208336943|\n",
      "|American (Traditi...|2017| 3.691802859857406|\n",
      "|American (Traditi...|2018|  3.70874631516579|\n",
      "|American (Traditi...|2019|3.7034515444683507|\n",
      "|American (Traditi...|2020| 3.758879654397986|\n",
      "|American (Traditi...|2021|3.7032889208978514|\n",
      "|American (Traditi...|2022| 3.750869349230005|\n",
      "|                Bars|2005|3.8421052631578947|\n",
      "|                Bars|2006|3.9234913793103448|\n",
      "|                Bars|2007|3.8007464829170257|\n",
      "|                Bars|2008|3.7141110065851364|\n",
      "|                Bars|2009| 3.630246988684755|\n",
      "|                Bars|2010|3.6566760224538895|\n",
      "|                Bars|2011|3.6464636140637774|\n",
      "|                Bars|2012| 3.629243357291113|\n",
      "|                Bars|2013| 3.647583168380052|\n",
      "|                Bars|2014| 3.699594947010191|\n",
      "|                Bars|2015|3.7478529049746223|\n",
      "|                Bars|2016| 3.793989907865338|\n",
      "|                Bars|2017|3.8153808707071737|\n",
      "|                Bars|2018|3.8484138354482194|\n",
      "|                Bars|2019|   3.8547510532663|\n",
      "|                Bars|2020|3.9404572514883185|\n",
      "|                Bars|2021|3.8610386530709033|\n",
      "|                Bars|2022|3.8788663967611337|\n",
      "|  Breakfast & Brunch|2005| 3.943661971830986|\n",
      "|  Breakfast & Brunch|2006|3.9862258953168044|\n",
      "|  Breakfast & Brunch|2007|3.8946372239747635|\n",
      "|  Breakfast & Brunch|2008| 3.831814236111111|\n",
      "|  Breakfast & Brunch|2009|3.7493949661181025|\n",
      "|  Breakfast & Brunch|2010|3.7488375096874194|\n",
      "|  Breakfast & Brunch|2011| 3.756242707117853|\n",
      "|  Breakfast & Brunch|2012|3.7207775405912416|\n",
      "|  Breakfast & Brunch|2013|3.7307105388650452|\n",
      "|  Breakfast & Brunch|2014| 3.822928039702233|\n",
      "|  Breakfast & Brunch|2015| 3.867922541391213|\n",
      "|  Breakfast & Brunch|2016| 3.890574136638564|\n",
      "|  Breakfast & Brunch|2017|3.9039394976007986|\n",
      "|  Breakfast & Brunch|2018| 3.920395917905258|\n",
      "|  Breakfast & Brunch|2019| 3.916519933554817|\n",
      "|  Breakfast & Brunch|2020|3.9775021494761647|\n",
      "|  Breakfast & Brunch|2021| 3.908694285040484|\n",
      "|  Breakfast & Brunch|2022|  3.93169968717414|\n",
      "|Event Planning & ...|2005| 4.190476190476191|\n",
      "|Event Planning & ...|2006|  4.04862579281184|\n",
      "|Event Planning & ...|2007| 3.825733916302311|\n",
      "|Event Planning & ...|2008| 3.789395229982964|\n",
      "|Event Planning & ...|2009|3.7302678699326743|\n",
      "|Event Planning & ...|2010| 3.682421995675008|\n",
      "|Event Planning & ...|2011|3.6728206551915603|\n",
      "|Event Planning & ...|2012|3.6632583244640413|\n",
      "|Event Planning & ...|2013| 3.683215942277959|\n",
      "|Event Planning & ...|2014|  3.68615667125746|\n",
      "|Event Planning & ...|2015|3.7009312437132937|\n",
      "|Event Planning & ...|2016|3.6889290012033693|\n",
      "|Event Planning & ...|2017|3.6914970325586554|\n",
      "|Event Planning & ...|2018| 3.709386902567883|\n",
      "|Event Planning & ...|2019|3.6936664953751284|\n",
      "|Event Planning & ...|2020| 3.741262806074257|\n",
      "|Event Planning & ...|2021| 3.611466792120927|\n",
      "|Event Planning & ...|2022| 3.639830508474576|\n",
      "|                Food|2005| 3.933333333333333|\n",
      "|                Food|2006|4.0538172715894865|\n",
      "|                Food|2007| 4.003879438973441|\n",
      "|                Food|2008| 3.919318691169879|\n",
      "|                Food|2009|3.8324239185464366|\n",
      "|                Food|2010|3.8351809921486755|\n",
      "|                Food|2011| 3.826780802022998|\n",
      "|                Food|2012| 3.812982552548427|\n",
      "|                Food|2013|3.8262442260097593|\n",
      "|                Food|2014|3.8647370482306083|\n",
      "|                Food|2015| 3.885820223353171|\n",
      "|                Food|2016|3.8953550453817405|\n",
      "|                Food|2017|3.9131325194415028|\n",
      "|                Food|2018| 3.927061956208341|\n",
      "|                Food|2019|  3.91812107138395|\n",
      "|                Food|2020|3.9521110001777973|\n",
      "|                Food|2021|3.8906294833364874|\n",
      "|                Food|2022| 3.876506398310349|\n",
      "|           Nightlife|2005|3.8471760797342194|\n",
      "|           Nightlife|2006|3.9378585086042066|\n",
      "|           Nightlife|2007|3.8135849056603774|\n",
      "|           Nightlife|2008|3.7297229429982424|\n",
      "|           Nightlife|2009|3.6442024556919828|\n",
      "|           Nightlife|2010| 3.662384981164701|\n",
      "|           Nightlife|2011| 3.654427768419857|\n",
      "|           Nightlife|2012|3.6359609849696195|\n",
      "|           Nightlife|2013| 3.648817993758146|\n",
      "|           Nightlife|2014|3.7020485953980575|\n",
      "|           Nightlife|2015|3.7458205346055813|\n",
      "|           Nightlife|2016|3.7924336472602738|\n",
      "|           Nightlife|2017|3.8159019663721856|\n",
      "|           Nightlife|2018|3.8475714577081086|\n",
      "|           Nightlife|2019| 3.855598654519694|\n",
      "|           Nightlife|2020| 3.938069669233562|\n",
      "|           Nightlife|2021|3.8588265572604024|\n",
      "|           Nightlife|2022|3.8812403100775192|\n",
      "|         Restaurants|2005| 3.970967741935484|\n",
      "|         Restaurants|2006|3.9692579505300354|\n",
      "|         Restaurants|2007|3.8410798775396606|\n",
      "|         Restaurants|2008| 3.748696751904747|\n",
      "|         Restaurants|2009|3.6807904904516295|\n",
      "|         Restaurants|2010| 3.694288623160921|\n",
      "|         Restaurants|2011|3.6851606279676603|\n",
      "|         Restaurants|2012|3.6706570295638206|\n",
      "|         Restaurants|2013|3.6841643923706138|\n",
      "|         Restaurants|2014|3.7444498001872017|\n",
      "|         Restaurants|2015| 3.777648043568091|\n",
      "|         Restaurants|2016| 3.795225902112019|\n",
      "|         Restaurants|2017|3.8194523637561613|\n",
      "|         Restaurants|2018|3.8384264459778548|\n",
      "|         Restaurants|2019|3.8350266658775407|\n",
      "|         Restaurants|2020| 3.888487933666563|\n",
      "|         Restaurants|2021|3.8197150938645192|\n",
      "|         Restaurants|2022| 3.834774626793565|\n",
      "|          Sandwiches|2005| 4.149425287356322|\n",
      "|          Sandwiches|2006| 4.019607843137255|\n",
      "|          Sandwiches|2007|3.9358420727945713|\n",
      "|          Sandwiches|2008|3.8049104180491042|\n",
      "|          Sandwiches|2009| 3.806807220614579|\n",
      "|          Sandwiches|2010| 3.799019966357054|\n",
      "|          Sandwiches|2011|3.7976989027586514|\n",
      "|          Sandwiches|2012| 3.758588706685464|\n",
      "|          Sandwiches|2013|3.7774332327634372|\n",
      "|          Sandwiches|2014|3.8388765990189477|\n",
      "|          Sandwiches|2015|3.8660579899468948|\n",
      "|          Sandwiches|2016| 3.850658932478502|\n",
      "|          Sandwiches|2017| 3.870115868540151|\n",
      "|          Sandwiches|2018| 3.872864774550971|\n",
      "|          Sandwiches|2019|3.8796047339997703|\n",
      "|          Sandwiches|2020|3.8876075859756325|\n",
      "|          Sandwiches|2021|3.8367232882280216|\n",
      "|          Sandwiches|2022| 3.847463516330785|\n",
      "|             Seafood|2005| 4.056818181818182|\n",
      "|             Seafood|2006| 4.042071197411003|\n",
      "|             Seafood|2007| 3.919963201471941|\n",
      "|             Seafood|2008| 3.808654496281271|\n",
      "|             Seafood|2009| 3.704952215464813|\n",
      "|             Seafood|2010|3.7114512471655328|\n",
      "|             Seafood|2011| 3.712895377128954|\n",
      "|             Seafood|2012|3.6834588757782907|\n",
      "|             Seafood|2013|3.7107293127629735|\n",
      "|             Seafood|2014|3.7598732270898423|\n",
      "|             Seafood|2015|3.8039507643438553|\n",
      "|             Seafood|2016| 3.854795539033457|\n",
      "|             Seafood|2017|3.8865742270630377|\n",
      "|             Seafood|2018|3.9066153275190203|\n",
      "|             Seafood|2019| 3.917412958866188|\n",
      "|             Seafood|2020| 3.951487059020932|\n",
      "|             Seafood|2021|3.8824578247154027|\n",
      "|             Seafood|2022|3.9293459251486533|\n",
      "+--------------------+----+------------------+\n",
      "\n"
     ]
    },
    {
     "name": "stderr",
     "output_type": "stream",
     "text": [
      "                                                                                \r"
     ]
    }
   ],
   "source": [
    "result.show(400)\n"
   ]
  },
  {
   "cell_type": "markdown",
   "metadata": {},
   "source": [
    "##### EXTRA"
   ]
  },
  {
   "cell_type": "code",
   "execution_count": 23,
   "metadata": {},
   "outputs": [
    {
     "name": "stderr",
     "output_type": "stream",
     "text": [
      "                                                                                \r"
     ]
    },
    {
     "name": "stdout",
     "output_type": "stream",
     "text": [
      "+--------------------+------------------+-----------+\n",
      "|            category|         avg_stars|num_reviews|\n",
      "+--------------------+------------------+-----------+\n",
      "|      American (New)|3.8414833323176305|     984540|\n",
      "|American (Traditi...|3.6683434719259504|    1011646|\n",
      "|                Bars| 3.791956733969838|    1455553|\n",
      "|  Breakfast & Brunch|3.8793193687098673|     867430|\n",
      "|Event Planning & ...|3.6905174775614262|     609553|\n",
      "|                Food|  3.89467647923211|    1813593|\n",
      "|           Nightlife| 3.791832087790476|    1539757|\n",
      "|         Restaurants|3.7937982897979476|    4724471|\n",
      "|          Sandwiches| 3.851398540753674|     691864|\n",
      "|             Seafood| 3.851528503966968|     620247|\n",
      "+--------------------+------------------+-----------+\n",
      "\n"
     ]
    }
   ],
   "source": [
    "# NO es el bueno pero es importtante (creo)\n",
    "# Obtener las 10 categorías con mayor número de reseñas\n",
    "top_categories_by_reviews = (\n",
    "    review_df\n",
    "    .join(business_df, \"business_id\")\n",
    "    .select(explode(split(\"categories\", \", \")).alias(\"category\"))\n",
    "    .groupBy(\"category\")\n",
    "    .agg(count(\"*\").alias(\"num_reviews\"))\n",
    "    .orderBy(col(\"num_reviews\").desc())\n",
    "    .limit(10)\n",
    ")\n",
    "\n",
    "# Renombrar la columna \"stars\" de review_df a \"review_stars\"\n",
    "review_df = review_df.withColumnRenamed(\"stars\", \"review_stars\")\n",
    "\n",
    "# Filtrar las reseñas para las categorías seleccionadas\n",
    "filtered_reviews = (\n",
    "    review_df\n",
    "    .join(business_df, \"business_id\")\n",
    "    .select(\"review_stars\", explode(split(\"categories\", \", \")).alias(\"category\"))\n",
    "    .join(top_categories_by_reviews, \"category\")\n",
    ")\n",
    "\n",
    "# Calcular la media y el número de reseñas para las 10 categorías con mayor número de reseñas\n",
    "avg_stars_and_reviews_by_category = (\n",
    "    filtered_reviews\n",
    "    .groupBy(\"category\")\n",
    "    .agg(avg(col(\"review_stars\")).alias(\"avg_stars\"), count(\"*\").alias(\"num_reviews\"))\n",
    "    .orderBy(\"category\")\n",
    ")\n",
    "\n",
    "avg_stars_and_reviews_by_category.show()\n"
   ]
  }
 ],
 "metadata": {
  "kernelspec": {
   "display_name": "RL",
   "language": "python",
   "name": "python3"
  },
  "language_info": {
   "codemirror_mode": {
    "name": "ipython",
    "version": 3
   },
   "file_extension": ".py",
   "mimetype": "text/x-python",
   "name": "python",
   "nbconvert_exporter": "python",
   "pygments_lexer": "ipython3",
   "version": "3.10.12"
  }
 },
 "nbformat": 4,
 "nbformat_minor": 2
}
